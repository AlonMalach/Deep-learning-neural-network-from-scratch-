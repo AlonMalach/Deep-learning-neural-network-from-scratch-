{
  "cells": [
    {
      "cell_type": "code",
      "execution_count": 5,
      "metadata": {
        "id": "GWGBc_U872Lb"
      },
      "outputs": [],
      "source": [
        "import numpy as np\n",
        "import matplotlib.pyplot as plt"
      ]
    },
    {
      "cell_type": "code",
      "execution_count": 6,
      "metadata": {
        "id": "FHQhi_ay77DO"
      },
      "outputs": [],
      "source": [
        "np.random.seed(42)"
      ]
    },
    {
      "cell_type": "markdown",
      "metadata": {
        "id": "wveUPDlQ2-sY"
      },
      "source": [
        "#1) Forward propagation process:"
      ]
    },
    {
      "cell_type": "code",
      "execution_count": 7,
      "metadata": {
        "id": "itCSIVd63EUt"
      },
      "outputs": [],
      "source": [
        "def initialize_parameters(layer_dims): \n",
        "    '''\n",
        "    input: an array of the dimensions of each layer in the network (layer 0 is the size of the flattened input, layer L is the output softmax)\n",
        "\n",
        "    output: a dictionary containing the initialized W and b parameters of each layer (W1…WL, b1…bL).\n",
        "    '''\n",
        "    initialized_parameters = {'W':[], 'b':[]}\n",
        "    for layer_num in range(1, len(layer_dims)):\n",
        "        mu, sigma = 0, 0.5#1, 0.1 #as learn in class - we want values between one \n",
        "        initialized_parameters['W'] += [np.random.randn(layer_dims[layer_num], layer_dims[layer_num-1])*sigma+mu]  #layer, layer_dims[layer_num-1]: dimension of this layer, dimension of the previous layer\n",
        "        initialized_parameters['b'] += [np.zeros((layer_dims[layer_num], 1))]\n",
        "    return initialized_parameters"
      ]
    },
    {
      "cell_type": "code",
      "execution_count": 8,
      "metadata": {
        "id": "rWPJlFl33SqC"
      },
      "outputs": [],
      "source": [
        "def linear_forward(A, W, b): \n",
        "    '''\n",
        "    Description: Implement the linear part of a layer's forward propagation.\n",
        "\n",
        "    input: \n",
        "    A – the activations of the previous layer\n",
        "    W – the weight matrix of the current layer (of shape [size of current layer, size of previous layer])\n",
        "    B – the bias vector of the current layer (of shape [size of current layer, 1])\n",
        "\n",
        "    Output:\n",
        "    Z – the linear component of the activation function (i.e., the value before applying the non-linear function)\n",
        "    linear_cache – a dictionary containing A, W, b (stored for making the backpropagation easier to compute)\n",
        "    '''\n",
        "    Z = np.dot(W, A) + b\n",
        "    linear_cache = {'W':W, 'A':A, 'b':b}\n",
        "    return Z, linear_cache"
      ]
    },
    {
      "cell_type": "code",
      "execution_count": 9,
      "metadata": {
        "id": "QP5-dXVI3hsb"
      },
      "outputs": [],
      "source": [
        "def softmax(Z): \n",
        "    '''\n",
        "    Input:\n",
        "    Z – the linear component of the activation function\n",
        "\n",
        "    Output:\n",
        "    A – the activations of the layer\n",
        "    activation_cache – returns Z, which will be useful for the backpropagation\n",
        "    '''\n",
        "    A = np.exp(Z)/sum(np.exp(Z))\n",
        "    activation_cache = {'Z':Z}\n",
        "    return A, activation_cache"
      ]
    },
    {
      "cell_type": "code",
      "execution_count": 10,
      "metadata": {
        "id": "-41HExHt3p7n"
      },
      "outputs": [],
      "source": [
        "def relu(Z): \n",
        "    '''\n",
        "    Input:\n",
        "    Z – the linear component of the activation function\n",
        "\n",
        "    Output:\n",
        "    A – the activations of the layer\n",
        "    activation_cache – returns Z, which will be useful for the backpropagation\n",
        "    '''\n",
        "    A = np.maximum(0, Z)\n",
        "    activation_cache = {'Z':Z}\n",
        "    return A, activation_cache"
      ]
    },
    {
      "cell_type": "code",
      "execution_count": 11,
      "metadata": {
        "id": "s_Vympxg3Ssn"
      },
      "outputs": [],
      "source": [
        "def linear_activation_forward(A_prev, W, B, activation):\n",
        "    '''\n",
        "    Description:\n",
        "    Implement the forward propagation for the LINEAR->ACTIVATION layer\n",
        "\n",
        "    Input:\n",
        "    A_prev – activations of the previous layer\n",
        "    W – the weights matrix of the current layer\n",
        "    B – the bias vector of the current layer\n",
        "    Activation – the activation function to be used (a string, either “softmax” or “relu”)\n",
        "\n",
        "    Output:\n",
        "    A – the activations of the current layer\n",
        "    cache – a joint dictionary containing both linear_cache and activation_cache\n",
        "    '''\n",
        "    Z, linear_cache = linear_forward(A_prev, W, B) #do linear forward\n",
        "    if activation==\"softmax\":\n",
        "        A, activation_cache = softmax(Z)\n",
        "    elif activation==\"relu\":\n",
        "        A, activation_cache = relu(Z)\n",
        "    cache = {}\n",
        "    cache.update(linear_cache)\n",
        "    cache.update(activation_cache)\n",
        "    return A, cache"
      ]
    },
    {
      "cell_type": "code",
      "execution_count": 12,
      "metadata": {
        "id": "9uz-r-qF3Svc"
      },
      "outputs": [],
      "source": [
        "def L_model_forward(X, parameters, use_batchnorm): \n",
        "    '''\n",
        "    Description:\n",
        "    Implement forward propagation for the [LINEAR->RELU]*(L-1)->LINEAR->SOFTMAX computation\n",
        "\n",
        "    Input:\n",
        "    X – the data, numpy array of shape (input size, number of examples)\n",
        "    parameters – the initialized W and b parameters of each layer\n",
        "    use_batchnorm - a boolean flag used to determine whether to apply batchnorm after the activation (note that this option needs to be set to “false” in Section 3 and “true” in Section 4).\n",
        "\n",
        "    Output:\n",
        "    AL – the last post-activation value\n",
        "    caches – a list of all the cache objects generated by the linear_forward function\n",
        "    '''\n",
        "    cur_A = X\n",
        "    layers_amount = len(parameters['W'])\n",
        "    caches = []\n",
        "    #[LINEAR->RELU]*(L-1) :\n",
        "    for layer_num in range(layers_amount-1):\n",
        "        A_prev = cur_A\n",
        "        if use_batchnorm: A_prev = apply_batchnorm(A_prev)\n",
        "\n",
        "        W = parameters['W'][layer_num]\n",
        "        B = parameters['b'][layer_num]\n",
        "        activation=\"relu\"\n",
        "        cur_A, cache = linear_activation_forward(A_prev, W, B, activation)\n",
        "        caches += [cache]\n",
        "    #LINEAR->SOFTMAX :\n",
        "    layer_num = layers_amount-1\n",
        "    W = parameters['W'][layer_num]\n",
        "    B = parameters['b'][layer_num]\n",
        "    activation=\"softmax\"\n",
        "    AL, cache = linear_activation_forward(cur_A, W, B, activation)\n",
        "    caches += [cache]\n",
        "    return AL, caches"
      ]
    },
    {
      "cell_type": "code",
      "execution_count": 13,
      "metadata": {
        "id": "-kgoS6BQ3SyA"
      },
      "outputs": [],
      "source": [
        "def compute_cost(AL, Y): \n",
        "    '''\n",
        "    Description:\n",
        "    Implement the cost function defined by equation. The requested cost function is categorical cross-entropy loss. \n",
        "\n",
        "    Input:\n",
        "    AL – probability vector corresponding to your label predictions, shape (num_of_classes, number of examples)\n",
        "    Y – the labels vector (i.e. the ground truth)\n",
        "\n",
        "    Output:\n",
        "    cost – the cross-entropy cost\n",
        "    '''\n",
        "    eps = 1e-20\n",
        "    m = AL.shape[1]\n",
        "    reshaped_Y = np.zeros(AL.shape)\n",
        "    for col, ind_of_one in enumerate(Y):\n",
        "        reshaped_Y[ind_of_one, col] = 1\n",
        "    log_res = np.log(AL + eps)\n",
        "    cost = - (1 / m) *  np.sum(np.multiply(log_res, reshaped_Y))#element-wise multiplication and summation  \n",
        "    return np.average(cost)"
      ]
    },
    {
      "cell_type": "code",
      "execution_count": 14,
      "metadata": {
        "id": "IjXs2bXJ3S0v"
      },
      "outputs": [],
      "source": [
        "def apply_batchnorm(A):\n",
        "    '''\n",
        "    Description:\n",
        "    performs batchnorm on the received activation values of a given layer.\n",
        "\n",
        "    Input:\n",
        "    A - the activation values of a given layer\n",
        "\n",
        "    output:\n",
        "    NA - the normalized activation values, based on the formula learned in class\n",
        "    '''\n",
        "    mean = np.array([[itm] for itm in A.mean(axis=1)])\n",
        "    var = np.array([[itm] for itm in A.var(axis=1)])\n",
        "    epsilon = 1e-20\n",
        "    NA = (A - mean) / np.sqrt(var + epsilon)\n",
        "\n",
        "    return NA"
      ]
    },
    {
      "cell_type": "markdown",
      "metadata": {
        "id": "QzOAEiSh2-xl"
      },
      "source": [
        "#2) Backward propagation process:"
      ]
    },
    {
      "cell_type": "code",
      "execution_count": 15,
      "metadata": {
        "id": "5pOLf0Ug3SBi"
      },
      "outputs": [],
      "source": [
        "def\tLinear_backward(dZ, cache):\n",
        "    '''\n",
        "    description:\n",
        "    Implements the linear part of the backward propagation process for a single layer\n",
        "\n",
        "    Input:\n",
        "    dZ – the gradient of the cost with respect to the linear output of the current layer (layer l)\n",
        "    cache – tuple of values (A_prev, W, b) coming from the forward propagation in the current layer\n",
        "\n",
        "    Output:\n",
        "    dA_prev -- Gradient of the cost with respect to the activation (of the previous layer l-1), same shape as A_prev\n",
        "    dW -- Gradient of the cost with respect to W (current layer l), same shape as W\n",
        "    db -- Gradient of the cost with respect to b (current layer l), same shape as b\n",
        "    '''\n",
        "    A_prev, W, b = cache['A'], cache['W'], cache['b']\n",
        "    m = A_prev.shape[1]\n",
        "    dA_prev = np.dot(W.T, dZ)\n",
        "    dW = (1/m) * np.dot(dZ, A_prev.T)\n",
        "    db = (1/m) * np.sum(dZ, axis=1)\n",
        "\n",
        "    return dA_prev, dW, db"
      ]
    },
    {
      "cell_type": "code",
      "execution_count": 16,
      "metadata": {
        "id": "k5sMLBfe4hUK"
      },
      "outputs": [],
      "source": [
        "def linear_activation_backward(dA, cache, activation):\n",
        "    '''\n",
        "    Description:\n",
        "    Implements the backward propagation for the LINEAR->ACTIVATION layer. The function first computes dZ and then applies the linear_backward function.\n",
        "\n",
        "    Input:\n",
        "    dA – post activation gradient of the current layer\n",
        "    cache – contains both the linear cache and the activations cache\n",
        "\n",
        "    Output:\n",
        "    dA_prev – Gradient of the cost with respect to the activation (of the previous layer l-1), same shape as A_prev\n",
        "    dW – Gradient of the cost with respect to W (current layer l), same shape as W\n",
        "    db – Gradient of the cost with respect to b (current layer l), same shape as b\n",
        "    '''\n",
        "    # (linear_cache, activation_cache) = cache\n",
        "\n",
        "    if activation==\"softmax\":\n",
        "        dZ = softmax_backward(dA, cache)\n",
        "    elif activation==\"relu\":\n",
        "        dZ = relu_backward(dA, cache)\n",
        "\n",
        "    dA_prev, dW, db = Linear_backward(dZ, cache) #do linear backward\n",
        "    \n",
        "    return dA_prev, dW, db"
      ]
    },
    {
      "cell_type": "code",
      "execution_count": 17,
      "metadata": {
        "id": "44SpBdwy4hWl"
      },
      "outputs": [],
      "source": [
        "def relu_backward(dA, activation_cache): \n",
        "    '''\n",
        "    Description:\n",
        "    Implements backward propagation for a ReLU unit\n",
        "\n",
        "    Input:\n",
        "    dA – the post-activation gradient\n",
        "    activation_cache – contains Z (stored during the forward propagation)\n",
        "\n",
        "    Output:\n",
        "    dZ – gradient of the cost with respect to Z\n",
        "    '''\n",
        "    Z = activation_cache['Z']\n",
        "    relu_dev = np.greater(Z, 0).astype(int)\n",
        "    return dA * relu_dev"
      ]
    },
    {
      "cell_type": "code",
      "execution_count": 18,
      "metadata": {
        "id": "AMzkPcKp4hZG"
      },
      "outputs": [],
      "source": [
        "def softmax_backward (dA, activation_cache):\n",
        "    '''\n",
        "    Description:\n",
        "    Implements backward propagation for a softmax unit\n",
        "\n",
        "    Input:\n",
        "    dA – the post-activation gradient\n",
        "    activation_cache – contains Z (stored during the forward propagation)\n",
        "\n",
        "    Output:\n",
        "    dZ – gradient of the cost with respect to Z\n",
        "    '''\n",
        "    dZ = dA*1\n",
        "    return dZ "
      ]
    },
    {
      "cell_type": "code",
      "execution_count": 19,
      "metadata": {
        "id": "9ihhuz-Y4hb4"
      },
      "outputs": [],
      "source": [
        "def L_model_backward(AL, Y, caches):\n",
        "    '''\n",
        "    Description:\n",
        "    Implement the backward propagation process for the entire network.\n",
        "\n",
        "    Some comments:\n",
        "    the backpropagation for the softmax function should be done only once as only the output layers uses it and the RELU should be done iteratively over all the remaining layers of the network. \n",
        "\n",
        "    Input:\n",
        "    AL - the probabilities vector, the output of the forward propagation (L_model_forward)\n",
        "    Y - the true labels vector (the \"ground truth\" - true classifications)\n",
        "    Caches - list of caches containing for each layer: a) the linear cache; b) the activation cache\n",
        "\n",
        "    Output:\n",
        "    Grads - a dictionary with the gradients\n",
        "                grads[\"dA\" + str(l)] = ... \n",
        "                grads[\"dW\" + str(l)] = ...\n",
        "                grads[\"db\" + str(l)] = ...\n",
        "    '''\n",
        "    Grads = {}\n",
        "    layers_amount = len(caches)\n",
        "    #reshape y to be as AL:\n",
        "    reshaped_Y = np.zeros(AL.shape)\n",
        "    for col, ind_of_one in enumerate(Y):\n",
        "        reshaped_Y[ind_of_one, col] = 1\n",
        "\n",
        "    dA = AL - reshaped_Y\n",
        "\n",
        "    for i in range(layers_amount-1, -1, -1):\n",
        "        cur_cache = caches[i]\n",
        "        activation = \"softmax\" if i==layers_amount-1 else \"relu\"\n",
        "        dA, dW, db = linear_activation_backward(dA, cur_cache, activation)\n",
        "        Grads[\"dA\" + str(i)] = dA\n",
        "        Grads[\"dW\" + str(i)] = dW \n",
        "        Grads[\"db\" + str(i)] = db \n",
        "    return Grads"
      ]
    },
    {
      "cell_type": "code",
      "execution_count": 20,
      "metadata": {
        "id": "whPp7iMF4792"
      },
      "outputs": [],
      "source": [
        "def Update_parameters(parameters, grads, learning_rate): \n",
        "    '''\n",
        "    Description:\n",
        "    Updates parameters using gradient descent\n",
        "\n",
        "    Input:\n",
        "    parameters – a python dictionary containing the DNN architecture’s parameters\n",
        "    grads – a python dictionary containing the gradients (generated by L_model_backward)\n",
        "    learning_rate – the learning rate used to update the parameters (the “alpha”)\n",
        "\n",
        "    Output:\n",
        "    parameters – the updated values of the parameters object provided as input\n",
        "    '''\n",
        "    wegihts, bias = parameters[\"W\"], parameters[\"b\"]\n",
        "    for i in range(len(parameters['W'])):\n",
        "            wegihts[i] -= learning_rate * grads['dW' + f'{str(i)}']\n",
        "            reshaped_db = np.array([[itm] for itm in grads[\"db\" + str(i)]])\n",
        "            bias[i] -= learning_rate * reshaped_db\n",
        "\n",
        "    return parameters"
      ]
    },
    {
      "cell_type": "markdown",
      "metadata": {
        "id": "pxWCapch2-0Y"
      },
      "source": [
        "#3) Use the functions created in the previous sections to train the network and produce predictions"
      ]
    },
    {
      "cell_type": "code",
      "execution_count": 21,
      "metadata": {
        "id": "tYUHghj2x_p2"
      },
      "outputs": [],
      "source": [
        "def L_layer_model(X, Y, layers_dims, learning_rate, num_iterations, batch_size, l2_regularization=False):\n",
        "    '''\n",
        "    Description:\n",
        "    Implements a L-layer neural network. \n",
        "    All layers but the last should have the ReLU activation function, \n",
        "    and the final layer will apply the softmax activation function. \n",
        "    The size of the output layer should be equal to the number of labels in the data. \n",
        "    Please select a batch size that enables your code to run well \n",
        "    (i.e. no memory overflows while still running relatively fast).\n",
        "\n",
        "    Input:\n",
        "    X – the input data, a numpy array of shape (height*width , number_of_examples) \n",
        "    Comment: since the input is in grayscale we only have height and width, otherwise it would have been height*width*3\n",
        "    Y – the “real” labels of the data, a vector of shape (num_of_classes, number of examples)\n",
        "    Layer_dims – a list containing the dimensions of each layer, including the input\n",
        "    batch_size – the number of examples in a single training batch.\n",
        "\n",
        "    Output:\n",
        "    parameters – the parameters learnt by the system during the training (the same parameters that were updated in the update_parameters function).\n",
        "    costs – the values of the cost function (calculated by the compute_cost function). \n",
        "    One value is to be saved after each 100 training iterations (e.g. 3000 iterations -> 30 values).\n",
        "    '''\n",
        "    def batch_gen(x, y, batch_size):\n",
        "        suffeld_indices = list(range(x.shape[1]))\n",
        "        np.random.shuffle(suffeld_indices)\n",
        "\n",
        "        for i in range(0, x.shape[1], batch_size):\n",
        "            generated_batch_indices = suffeld_indices[i:i + batch_size]\n",
        "            yield x[:, generated_batch_indices], y[generated_batch_indices]\n",
        "\n",
        "    parameters = initialize_parameters(layers_dims) \n",
        "    iterations_amount = 0\n",
        "    costs = []\n",
        "\n",
        "    (x_train, y_train), (x_valid, y_valid) = get_splited_mnist(X, Y) #split data\n",
        "\n",
        "    last_valid_accuracy = 0\n",
        "    valid_improvment = True\n",
        "    train_iterations = 1\n",
        "\n",
        "    min_valid_improvment = 0.0001\n",
        "\n",
        "    while valid_improvment and train_iterations<num_iterations:\n",
        "        for i in range(1, 10 + 1):\n",
        "            curr_iteration_mean_loss = []\n",
        "            curr_iteration_valid_accs = []\n",
        "\n",
        "            for batch_num, (batch, y) in enumerate(batch_gen(x_train, y_train, batch_size)):\n",
        "                AL, caches = L_model_forward(batch, parameters, use_batchnorm=use_batcnormalization)\n",
        "                if l2_regularization: cost = compute_cost(AL, y, parameters) #add this for the bonus\n",
        "                else: cost = compute_cost(AL, y)\n",
        "                grads = L_model_backward(AL, y, caches)\n",
        "                parameters = Update_parameters(parameters, grads, learning_rate)\n",
        "                curr_iteration_mean_loss.append(cost)\n",
        "\n",
        "                if (batch_num+1) % 100 == 0:\n",
        "                    costs.append(cost)\n",
        "                    iterations_amount += 1\n",
        "                    valid_acc = Predict(x_valid, y_valid, parameters)\n",
        "                    curr_iteration_valid_accs.append(valid_acc)\n",
        "\n",
        "\n",
        "            mean_cost_for_epoch = np.average(curr_iteration_mean_loss)\n",
        "            mean_accuracy_for_epoch = np.average(curr_iteration_valid_accs)\n",
        "\n",
        "            #check stoping criterion\n",
        "            valid_improvment = mean_accuracy_for_epoch>=last_valid_accuracy + min_valid_improvment\n",
        "            last_valid_accuracy = mean_accuracy_for_epoch\n",
        "\n",
        "            print('-------------------------------------------------------------------')\n",
        "            print(f\"Iter: {train_iterations}, epoch {i} cost {np.round(mean_cost_for_epoch, 3)}, validation accuracy: {np.round(mean_accuracy_for_epoch*100, 3)}%\")\n",
        "\n",
        "\n",
        "\n",
        "            if not valid_improvment: break\n",
        "                \n",
        "\n",
        "        train_iterations += 1\n",
        "\n",
        "    return parameters, costs"
      ]
    },
    {
      "cell_type": "code",
      "execution_count": 22,
      "metadata": {
        "id": "klRdFaIm7Qg4"
      },
      "outputs": [],
      "source": [
        "def forward_and_pred(X, parameters):\n",
        "    #Auxilary function to get predictions for data set X\n",
        "    y_hat, _ = L_model_forward(X, parameters, use_batchnorm=use_batcnormalization)  # forward\n",
        "    preds = np.argmax(y_hat, axis=0)#prediction is argument with the hughest confidence score\n",
        "    return preds"
      ]
    },
    {
      "cell_type": "code",
      "execution_count": 23,
      "metadata": {
        "id": "n7ZxItDq6D2L"
      },
      "outputs": [],
      "source": [
        "def Predict(X, Y, parameters):\n",
        "    '''\n",
        "    Description:\n",
        "    The function receives an input data and the true labels and calculates \n",
        "    the accuracy of the trained neural network on the data.\n",
        "\n",
        "    Input:\n",
        "    X – the input data, a numpy array of shape (height*width, number_of_examples)\n",
        "    Y – the “real” labels of the data, a vector of shape (num_of_classes, number of examples)\n",
        "    Parameters – a python dictionary containing the DNN architecture’s parameters\n",
        "\n",
        "    Output:\n",
        "    accuracy – the accuracy measure of the neural net on the provided data \n",
        "    (i.e. the percentage of the samples for which the correct label receives the hughest confidence score). \n",
        "    Use the softmax function to normalize the output values.\n",
        "    '''\n",
        "    preds = forward_and_pred(X, parameters)    #get model output\n",
        "    right_preds = np.sum(preds == Y) #how many correct labels\n",
        "    accuracy = right_preds/Y.shape[0] #accuracy is the percentage of the samples for which the correct label receives the hughest confidence score\n",
        "    return accuracy"
      ]
    },
    {
      "cell_type": "markdown",
      "metadata": {
        "id": "fRBIJ3B82-3P"
      },
      "source": [
        "#4) Use the code you wrote to classify the MNIST dataset and present a summary report\n"
      ]
    },
    {
      "cell_type": "markdown",
      "metadata": {
        "id": "_TuQS_tQZEqm"
      },
      "source": [
        "## a.\t\n",
        "You may use publicly available code to download and preprocess the data. Note that there is a predefined division between the train and test set. Use 20% of the training set as a validation set (samples need to be randomly chosen)"
      ]
    },
    {
      "cell_type": "code",
      "execution_count": 24,
      "metadata": {
        "id": "JUgzCLl9ZVKm",
        "colab": {
          "base_uri": "https://localhost:8080/"
        },
        "outputId": "52a4bf5b-baf4-4308-c61a-7bf2ac837605"
      },
      "outputs": [
        {
          "output_type": "stream",
          "name": "stdout",
          "text": [
            "Downloading data from https://storage.googleapis.com/tensorflow/tf-keras-datasets/mnist.npz\n",
            "11490434/11490434 [==============================] - 0s 0us/step\n"
          ]
        }
      ],
      "source": [
        "from keras.datasets import mnist\n",
        "(x_train, y_train), (x_test, y_test) = mnist.load_data()\n",
        "x_train = x_train.reshape(x_train.shape[0], -1).T / 255\n",
        "x_test = x_test.reshape(x_test.shape[0], -1).T / 255\n",
        "\n",
        "def get_splited_mnist(x_train, y_train):\n",
        "    #shuffle the train indices and make validation set:\n",
        "    train_ind = np.arange(x_train.shape[1]) #take train indices\n",
        "    np.random.shuffle(train_ind) #shuffle train indices\n",
        "    validation_size = int(len(train_ind)*0.2)\n",
        "    validation_ind, new_train_ind = train_ind[:validation_size], train_ind[validation_size:] #compute train, validation indices\n",
        "    #set new_train and validation set due to the above partition \n",
        "    (x_validation, y_validation) = (x_train[:,validation_ind], y_train[validation_ind])\n",
        "    (x_train, y_train) = (x_train[:,new_train_ind], y_train[new_train_ind])\n",
        "    #reshape all :\n",
        "\n",
        "    # x_validation = x_validation.reshape(784, x_validation.shape[0])/255\n",
        "    return (x_train, y_train), (x_validation, y_validation)\n"
      ]
    },
    {
      "cell_type": "markdown",
      "metadata": {
        "id": "kjbUgcZSZJCd"
      },
      "source": [
        "## b.\tRun your network using the following configuration:<br/>\n",
        "\n",
        "•\t4 layers (aside from the input layer), with the following sizes: 20,7,5,10<br/>\n",
        "\n",
        "•\tDo not activate the batchnorm option at this point<br/>\n",
        "\n",
        "•\tThe input at each iteration needs to be “flattened” to a matrix of [m,784], where m is the number of samples<br/>\n",
        "\n",
        "•\tUse a learning rate of 0.009<br/>\n",
        "\n",
        "•\tTrain the network until there is no improvement on the validation set (or the improvement is very small) for 100 training steps (this is the stopping criterion). Please include in the report the number of iterations and epochs needed to train your network. Also, specify the batch size."
      ]
    },
    {
      "cell_type": "code",
      "execution_count": 25,
      "metadata": {
        "colab": {
          "base_uri": "https://localhost:8080/"
        },
        "id": "Gl3kRsO9ZVnw",
        "outputId": "59decec8-7049-46db-b747-5be602954abd"
      },
      "outputs": [
        {
          "output_type": "stream",
          "name": "stdout",
          "text": [
            "-------------------------------------------------------------------\n",
            "Iter: 1, epoch 1 cost 2.264, validation accuracy: 20.0%\n",
            "-------------------------------------------------------------------\n",
            "Iter: 1, epoch 2 cost 1.986, validation accuracy: 28.344%\n",
            "-------------------------------------------------------------------\n",
            "Iter: 1, epoch 3 cost 1.861, validation accuracy: 32.606%\n",
            "-------------------------------------------------------------------\n",
            "Iter: 1, epoch 4 cost 1.765, validation accuracy: 35.031%\n",
            "-------------------------------------------------------------------\n",
            "Iter: 1, epoch 5 cost 1.668, validation accuracy: 39.182%\n",
            "-------------------------------------------------------------------\n",
            "Iter: 1, epoch 6 cost 1.6, validation accuracy: 40.83%\n",
            "-------------------------------------------------------------------\n",
            "Iter: 1, epoch 7 cost 1.545, validation accuracy: 43.287%\n",
            "-------------------------------------------------------------------\n",
            "Iter: 1, epoch 8 cost 1.49, validation accuracy: 46.264%\n",
            "-------------------------------------------------------------------\n",
            "Iter: 1, epoch 9 cost 1.43, validation accuracy: 48.787%\n",
            "-------------------------------------------------------------------\n",
            "Iter: 1, epoch 10 cost 1.373, validation accuracy: 51.305%\n",
            "-------------------------------------------------------------------\n",
            "Iter: 2, epoch 1 cost 1.315, validation accuracy: 53.802%\n",
            "-------------------------------------------------------------------\n",
            "Iter: 2, epoch 2 cost 1.257, validation accuracy: 55.69%\n",
            "-------------------------------------------------------------------\n",
            "Iter: 2, epoch 3 cost 1.198, validation accuracy: 57.769%\n",
            "-------------------------------------------------------------------\n",
            "Iter: 2, epoch 4 cost 1.144, validation accuracy: 59.654%\n",
            "-------------------------------------------------------------------\n",
            "Iter: 2, epoch 5 cost 1.099, validation accuracy: 61.605%\n",
            "-------------------------------------------------------------------\n",
            "Iter: 2, epoch 6 cost 1.059, validation accuracy: 63.007%\n",
            "-------------------------------------------------------------------\n",
            "Iter: 2, epoch 7 cost 1.023, validation accuracy: 64.531%\n",
            "-------------------------------------------------------------------\n",
            "Iter: 2, epoch 8 cost 0.992, validation accuracy: 66.024%\n",
            "-------------------------------------------------------------------\n",
            "Iter: 2, epoch 9 cost 0.963, validation accuracy: 67.224%\n",
            "-------------------------------------------------------------------\n",
            "Iter: 2, epoch 10 cost 0.935, validation accuracy: 68.419%\n",
            "-------------------------------------------------------------------\n",
            "Iter: 3, epoch 1 cost 0.909, validation accuracy: 69.587%\n",
            "-------------------------------------------------------------------\n",
            "Iter: 3, epoch 2 cost 0.882, validation accuracy: 70.473%\n",
            "-------------------------------------------------------------------\n",
            "Iter: 3, epoch 3 cost 0.854, validation accuracy: 71.702%\n",
            "-------------------------------------------------------------------\n",
            "Iter: 3, epoch 4 cost 0.825, validation accuracy: 73.448%\n",
            "-------------------------------------------------------------------\n",
            "Iter: 3, epoch 5 cost 0.797, validation accuracy: 74.398%\n",
            "-------------------------------------------------------------------\n",
            "Iter: 3, epoch 6 cost 0.773, validation accuracy: 75.651%\n",
            "-------------------------------------------------------------------\n",
            "Iter: 3, epoch 7 cost 0.753, validation accuracy: 76.53%\n",
            "-------------------------------------------------------------------\n",
            "Iter: 3, epoch 8 cost 0.736, validation accuracy: 77.214%\n",
            "-------------------------------------------------------------------\n",
            "Iter: 3, epoch 9 cost 0.72, validation accuracy: 77.743%\n",
            "-------------------------------------------------------------------\n",
            "Iter: 3, epoch 10 cost 0.706, validation accuracy: 78.449%\n",
            "-------------------------------------------------------------------\n",
            "Iter: 4, epoch 1 cost 0.693, validation accuracy: 78.975%\n",
            "-------------------------------------------------------------------\n",
            "Iter: 4, epoch 2 cost 0.68, validation accuracy: 79.276%\n",
            "-------------------------------------------------------------------\n",
            "Iter: 4, epoch 3 cost 0.669, validation accuracy: 79.733%\n",
            "-------------------------------------------------------------------\n",
            "Iter: 4, epoch 4 cost 0.659, validation accuracy: 80.148%\n",
            "-------------------------------------------------------------------\n",
            "Iter: 4, epoch 5 cost 0.648, validation accuracy: 80.475%\n",
            "-------------------------------------------------------------------\n",
            "Iter: 4, epoch 6 cost 0.638, validation accuracy: 80.674%\n",
            "-------------------------------------------------------------------\n",
            "Iter: 4, epoch 7 cost 0.629, validation accuracy: 81.038%\n",
            "-------------------------------------------------------------------\n",
            "Iter: 4, epoch 8 cost 0.62, validation accuracy: 81.267%\n",
            "-------------------------------------------------------------------\n",
            "Iter: 4, epoch 9 cost 0.612, validation accuracy: 81.554%\n",
            "-------------------------------------------------------------------\n",
            "Iter: 4, epoch 10 cost 0.605, validation accuracy: 81.701%\n",
            "-------------------------------------------------------------------\n",
            "Iter: 5, epoch 1 cost 0.597, validation accuracy: 82.038%\n",
            "-------------------------------------------------------------------\n",
            "Iter: 5, epoch 2 cost 0.59, validation accuracy: 82.185%\n",
            "-------------------------------------------------------------------\n",
            "Iter: 5, epoch 3 cost 0.583, validation accuracy: 82.402%\n",
            "-------------------------------------------------------------------\n",
            "Iter: 5, epoch 4 cost 0.576, validation accuracy: 82.551%\n",
            "-------------------------------------------------------------------\n",
            "Iter: 5, epoch 5 cost 0.57, validation accuracy: 82.739%\n",
            "-------------------------------------------------------------------\n",
            "Iter: 5, epoch 6 cost 0.563, validation accuracy: 82.769%\n",
            "-------------------------------------------------------------------\n",
            "Iter: 5, epoch 7 cost 0.558, validation accuracy: 83.138%\n",
            "-------------------------------------------------------------------\n",
            "Iter: 5, epoch 8 cost 0.552, validation accuracy: 83.229%\n",
            "-------------------------------------------------------------------\n",
            "Iter: 5, epoch 9 cost 0.546, validation accuracy: 83.423%\n",
            "-------------------------------------------------------------------\n",
            "Iter: 5, epoch 10 cost 0.541, validation accuracy: 83.512%\n",
            "-------------------------------------------------------------------\n",
            "Iter: 6, epoch 1 cost 0.535, validation accuracy: 83.592%\n",
            "-------------------------------------------------------------------\n",
            "Iter: 6, epoch 2 cost 0.531, validation accuracy: 83.94%\n",
            "-------------------------------------------------------------------\n",
            "Iter: 6, epoch 3 cost 0.525, validation accuracy: 84.087%\n",
            "-------------------------------------------------------------------\n",
            "Iter: 6, epoch 4 cost 0.52, validation accuracy: 84.249%\n",
            "-------------------------------------------------------------------\n",
            "Iter: 6, epoch 5 cost 0.515, validation accuracy: 84.346%\n",
            "-------------------------------------------------------------------\n",
            "Iter: 6, epoch 6 cost 0.51, validation accuracy: 84.44%\n",
            "-------------------------------------------------------------------\n",
            "Iter: 6, epoch 7 cost 0.505, validation accuracy: 84.617%\n",
            "-------------------------------------------------------------------\n",
            "Iter: 6, epoch 8 cost 0.501, validation accuracy: 84.817%\n",
            "-------------------------------------------------------------------\n",
            "Iter: 6, epoch 9 cost 0.496, validation accuracy: 84.917%\n",
            "-------------------------------------------------------------------\n",
            "Iter: 6, epoch 10 cost 0.491, validation accuracy: 84.999%\n",
            "-------------------------------------------------------------------\n",
            "Iter: 7, epoch 1 cost 0.487, validation accuracy: 85.061%\n",
            "-------------------------------------------------------------------\n",
            "Iter: 7, epoch 2 cost 0.482, validation accuracy: 85.357%\n",
            "-------------------------------------------------------------------\n",
            "Iter: 7, epoch 3 cost 0.478, validation accuracy: 85.419%\n",
            "-------------------------------------------------------------------\n",
            "Iter: 7, epoch 4 cost 0.474, validation accuracy: 85.486%\n",
            "-------------------------------------------------------------------\n",
            "Iter: 7, epoch 5 cost 0.47, validation accuracy: 85.674%\n",
            "-------------------------------------------------------------------\n",
            "Iter: 7, epoch 6 cost 0.466, validation accuracy: 85.7%\n",
            "-------------------------------------------------------------------\n",
            "Iter: 7, epoch 7 cost 0.462, validation accuracy: 85.842%\n",
            "-------------------------------------------------------------------\n",
            "Iter: 7, epoch 8 cost 0.458, validation accuracy: 85.933%\n",
            "-------------------------------------------------------------------\n",
            "Iter: 7, epoch 9 cost 0.454, validation accuracy: 86.04%\n",
            "-------------------------------------------------------------------\n",
            "Iter: 7, epoch 10 cost 0.451, validation accuracy: 86.14%\n",
            "-------------------------------------------------------------------\n",
            "Iter: 8, epoch 1 cost 0.446, validation accuracy: 86.169%\n",
            "-------------------------------------------------------------------\n",
            "Iter: 8, epoch 2 cost 0.443, validation accuracy: 86.344%\n",
            "-------------------------------------------------------------------\n",
            "Iter: 8, epoch 3 cost 0.44, validation accuracy: 86.418%\n",
            "-------------------------------------------------------------------\n",
            "Iter: 8, epoch 4 cost 0.437, validation accuracy: 86.44%\n",
            "-------------------------------------------------------------------\n",
            "Iter: 8, epoch 5 cost 0.433, validation accuracy: 86.464%\n",
            "-------------------------------------------------------------------\n",
            "Iter: 8, epoch 6 cost 0.43, validation accuracy: 86.632%\n",
            "-------------------------------------------------------------------\n",
            "Iter: 8, epoch 7 cost 0.427, validation accuracy: 86.819%\n",
            "-------------------------------------------------------------------\n",
            "Iter: 8, epoch 8 cost 0.424, validation accuracy: 86.823%\n",
            "Results summary:\n",
            "Batch size = 64\n",
            "Train accuracy: 87.51%\n",
            "Validation accuracy: 87.6%\n",
            "Test accuracy: 87.4%\n"
          ]
        }
      ],
      "source": [
        "\n",
        "use_batcnormalization = False\n",
        "batch_size = 64\n",
        "parameters, costs = L_layer_model(x_train, y_train,\n",
        "                                  layers_dims=[784, 20, 7, 5, 10],\n",
        "                                  learning_rate=0.009,\n",
        "                                  num_iterations=100,\n",
        "                                  batch_size=batch_size)\n",
        "\n",
        "(x_train_for_accuracy, y_train_for_accuracy), (x_valid_for_accuracy, y_valid_for_accuracy) = get_splited_mnist(x_train, y_train)  # split with 20 percent validation\n",
        "\n",
        "print('Results summary:')\n",
        "print('Batch size =', batch_size)\n",
        "\n",
        "train_acc = Predict(x_train_for_accuracy, y_train_for_accuracy, parameters)\n",
        "print(f'Train accuracy: {np.round(train_acc*100, 3)}%')\n",
        "\n",
        "valid_acc = Predict(x_valid_for_accuracy, y_valid_for_accuracy, parameters)\n",
        "print(f'Validation accuracy: {np.round(valid_acc*100, 3)}%')\n",
        "\n",
        "test_acc = Predict(x_test, y_test, parameters)\n",
        "print(f'Test accuracy: {np.round(test_acc*100, 3)}%')"
      ]
    },
    {
      "cell_type": "markdown",
      "metadata": {
        "id": "n14E7b4bZPmO"
      },
      "source": [
        "## c.\tPlease include the following details in your report:<br/>\n",
        "•\tThe final accuracy values for the train, validation and test sets.<br/>\n",
        "•\tThe cost value for each 100 training steps. Please make sure that the index of the training step will also be included in the report. Print the values from the L_layer_model<br/><br/>\n",
        "## d.\tAll the information requested above will be included in a .docx file uploaded with the code."
      ]
    },
    {
      "cell_type": "markdown",
      "metadata": {
        "id": "QHsiXNmV6qL2"
      },
      "source": [
        "#5) \n",
        "Repeat section 4 when the batchnorm function is “on”. Analyze and compare this experiment to the previous one (performance, running time, number of training steps etc.). There is no need to update the parameters of the batchnorm in the way described in the lecture (that is, use z_norm^i and not z ̃^i)."
      ]
    },
    {
      "cell_type": "code",
      "execution_count": 26,
      "metadata": {
        "id": "tKMwBJRz9qKL",
        "colab": {
          "base_uri": "https://localhost:8080/"
        },
        "outputId": "196a02d2-c4c1-4ae9-cead-4bf768a2e4ac"
      },
      "outputs": [
        {
          "output_type": "stream",
          "name": "stdout",
          "text": [
            "-------------------------------------------------------------------\n",
            "Iter: 1, epoch 1 cost 1.973, validation accuracy: 31.249%\n",
            "-------------------------------------------------------------------\n",
            "Iter: 1, epoch 2 cost 1.552, validation accuracy: 45.976%\n",
            "-------------------------------------------------------------------\n",
            "Iter: 1, epoch 3 cost 1.284, validation accuracy: 57.006%\n",
            "-------------------------------------------------------------------\n",
            "Iter: 1, epoch 4 cost 1.099, validation accuracy: 64.694%\n",
            "-------------------------------------------------------------------\n",
            "Iter: 1, epoch 5 cost 0.968, validation accuracy: 71.957%\n",
            "-------------------------------------------------------------------\n",
            "Iter: 1, epoch 6 cost 0.85, validation accuracy: 78.11%\n",
            "-------------------------------------------------------------------\n",
            "Iter: 1, epoch 7 cost 0.744, validation accuracy: 81.748%\n",
            "-------------------------------------------------------------------\n",
            "Iter: 1, epoch 8 cost 0.649, validation accuracy: 84.449%\n",
            "-------------------------------------------------------------------\n",
            "Iter: 1, epoch 9 cost 0.575, validation accuracy: 86.283%\n",
            "-------------------------------------------------------------------\n",
            "Iter: 1, epoch 10 cost 0.517, validation accuracy: 87.57%\n",
            "-------------------------------------------------------------------\n",
            "Iter: 2, epoch 1 cost 0.477, validation accuracy: 88.676%\n",
            "-------------------------------------------------------------------\n",
            "Iter: 2, epoch 2 cost 0.447, validation accuracy: 89.451%\n",
            "-------------------------------------------------------------------\n",
            "Iter: 2, epoch 3 cost 0.418, validation accuracy: 90.021%\n",
            "-------------------------------------------------------------------\n",
            "Iter: 2, epoch 4 cost 0.397, validation accuracy: 90.48%\n",
            "-------------------------------------------------------------------\n",
            "Iter: 2, epoch 5 cost 0.381, validation accuracy: 90.802%\n",
            "-------------------------------------------------------------------\n",
            "Iter: 2, epoch 6 cost 0.364, validation accuracy: 91.045%\n",
            "-------------------------------------------------------------------\n",
            "Iter: 2, epoch 7 cost 0.351, validation accuracy: 91.326%\n",
            "-------------------------------------------------------------------\n",
            "Iter: 2, epoch 8 cost 0.343, validation accuracy: 91.686%\n",
            "-------------------------------------------------------------------\n",
            "Iter: 2, epoch 9 cost 0.332, validation accuracy: 91.873%\n",
            "-------------------------------------------------------------------\n",
            "Iter: 2, epoch 10 cost 0.327, validation accuracy: 91.982%\n",
            "-------------------------------------------------------------------\n",
            "Iter: 3, epoch 1 cost 0.319, validation accuracy: 92.101%\n",
            "-------------------------------------------------------------------\n",
            "Iter: 3, epoch 2 cost 0.314, validation accuracy: 92.243%\n",
            "-------------------------------------------------------------------\n",
            "Iter: 3, epoch 3 cost 0.307, validation accuracy: 92.392%\n",
            "-------------------------------------------------------------------\n",
            "Iter: 3, epoch 4 cost 0.301, validation accuracy: 92.45%\n",
            "-------------------------------------------------------------------\n",
            "Iter: 3, epoch 5 cost 0.294, validation accuracy: 92.579%\n",
            "-------------------------------------------------------------------\n",
            "Iter: 3, epoch 6 cost 0.295, validation accuracy: 92.652%\n",
            "-------------------------------------------------------------------\n",
            "Iter: 3, epoch 7 cost 0.291, validation accuracy: 92.785%\n",
            "-------------------------------------------------------------------\n",
            "Iter: 3, epoch 8 cost 0.28, validation accuracy: 92.856%\n",
            "-------------------------------------------------------------------\n",
            "Iter: 3, epoch 9 cost 0.281, validation accuracy: 92.902%\n",
            "-------------------------------------------------------------------\n",
            "Iter: 3, epoch 10 cost 0.276, validation accuracy: 92.96%\n",
            "-------------------------------------------------------------------\n",
            "Iter: 4, epoch 1 cost 0.274, validation accuracy: 93.03%\n",
            "-------------------------------------------------------------------\n",
            "Iter: 4, epoch 2 cost 0.272, validation accuracy: 93.083%\n",
            "-------------------------------------------------------------------\n",
            "Iter: 4, epoch 3 cost 0.269, validation accuracy: 93.082%\n",
            "Results summary:\n",
            "Batch size = 64\n",
            "Train accuracy: 94.04%\n",
            "Validation accuracy: 93.908%\n",
            "Test accuracy: 93.42%\n"
          ]
        }
      ],
      "source": [
        "use_batcnormalization = True\n",
        "\n",
        "parameters_batcnorm, costs = L_layer_model(x_train, y_train,\n",
        "                                  layers_dims=[784, 20, 7, 5, 10],\n",
        "                                  learning_rate=0.009,\n",
        "                                  num_iterations=100,\n",
        "                                  batch_size=batch_size)\n",
        "\n",
        "print('Results summary:')\n",
        "print('Batch size =', batch_size)\n",
        "\n",
        "train_acc = Predict(x_train_for_accuracy, y_train_for_accuracy, parameters_batcnorm)\n",
        "print(f'Train accuracy: {np.round(train_acc*100, 3)}%')\n",
        "\n",
        "valid_acc = Predict(x_valid_for_accuracy, y_valid_for_accuracy, parameters_batcnorm)\n",
        "print(f'Validation accuracy: {np.round(valid_acc*100, 3)}%')\n",
        "\n",
        "test_acc = Predict(x_test, y_test, parameters_batcnorm)\n",
        "print(f'Test accuracy: {np.round(test_acc*100, 3)}%')"
      ]
    },
    {
      "cell_type": "markdown",
      "metadata": {
        "id": "e5joz7sD7BYX"
      },
      "source": [
        "#6)\t\n",
        "Bonus 10%: modify the code so that it supports the L2 norm functionality. In addition to the code, please provide a short explanation about the changes done in the code. Compare the values of the weights of your architecture with and without this change."
      ]
    },
    {
      "cell_type": "markdown",
      "source": [
        "#Solution:\n",
        "in order to support L2 regularization, we need to add the regularization term to the loss fuction and to update the parameters accordingly, so we will change the functions:\n",
        "compute_cost, and update_parameters"
      ],
      "metadata": {
        "id": "JBFQdrsF03Hw"
      }
    },
    {
      "cell_type": "code",
      "source": [
        "def compute_cost(AL, Y, parameters=None, regularization_param=1): \n",
        "    '''\n",
        "    Description:\n",
        "    same as 'compute_cost' before but adding regularization with the parameter - regularization_adding\n",
        "    '''\n",
        "    regularization_adding = 0\n",
        "    if parameters:\n",
        "        regularization_adding = np.sum([np.sum(np.square(weights)) for weights in parameters['W']])\n",
        "    eps = 1e-20\n",
        "    m = AL.shape[1]\n",
        "    reshaped_Y = np.zeros(AL.shape)\n",
        "    for col, ind_of_one in enumerate(Y):\n",
        "        reshaped_Y[ind_of_one, col] = 1\n",
        "    log_res = np.log(AL + eps)\n",
        "    cost = - (1 / m) *  np.sum(np.multiply(log_res, reshaped_Y))#element-wise multiplication and summation  \n",
        "    return (regularization_param/(2*m)) * regularization_adding + np.average(cost)"
      ],
      "metadata": {
        "id": "pGxq8tgyzDV3"
      },
      "execution_count": 51,
      "outputs": []
    },
    {
      "cell_type": "code",
      "source": [
        "def Update_parameters(parameters, grads, learning_rate, regularization_param=1): \n",
        "    '''\n",
        "    Description:\n",
        "    Updates parameters using gradient descent\n",
        "\n",
        "    Input:\n",
        "    parameters – a python dictionary containing the DNN architecture’s parameters\n",
        "    grads – a python dictionary containing the gradients (generated by L_model_backward)\n",
        "    learning_rate – the learning rate used to update the parameters (the “alpha”)\n",
        "\n",
        "    Output:\n",
        "    parameters – the updated values of the parameters object provided as input\n",
        "    '''\n",
        "\n",
        "    wegihts, bias = parameters[\"W\"], parameters[\"b\"]\n",
        "\n",
        "    for i in range(len(parameters['W'])):\n",
        "            reg_add = (regularization_param/batch_size) * wegihts[i]\n",
        "            wegihts[i] -= learning_rate * (grads['dW' + f'{str(i)}'] + reg_add)\n",
        "            reshaped_db = np.array([[itm] for itm in grads[\"db\" + str(i)]])\n",
        "            bias[i] -= learning_rate * reshaped_db\n",
        "\n",
        "    parameters[\"W\"], parameters[\"b\"] = wegihts, bias\n",
        "    return parameters"
      ],
      "metadata": {
        "id": "v-XN6FdjzZdN"
      },
      "execution_count": 52,
      "outputs": []
    },
    {
      "cell_type": "code",
      "source": [
        "use_batcnormalization = False\n",
        "\n",
        "parameters_l2, costs_l2 = L_layer_model(x_train, y_train,\n",
        "                                  layers_dims=[784, 20, 7, 5, 10],\n",
        "                                  learning_rate=0.009,\n",
        "                                  num_iterations=100,\n",
        "                                  batch_size=batch_size,\n",
        "                                  l2_regularization=True)\n",
        "\n",
        "print('Results summary:')\n",
        "print('Batch size =', batch_size)\n",
        "\n",
        "train_acc = Predict(x_train_for_accuracy, y_train_for_accuracy, parameters_l2)\n",
        "print(f'Train accuracy: {np.round(train_acc*100, 3)}%')\n",
        "\n",
        "valid_acc = Predict(x_valid_for_accuracy, y_valid_for_accuracy, parameters_l2)\n",
        "print(f'Validation accuracy: {np.round(valid_acc*100, 3)}%')\n",
        "\n",
        "test_acc = Predict(x_test, y_test, parameters_l2)\n",
        "print(f'Test accuracy: {np.round(test_acc*100, 3)}%')"
      ],
      "metadata": {
        "colab": {
          "base_uri": "https://localhost:8080/"
        },
        "id": "3nBg7wpk8YFt",
        "outputId": "49c2152b-b2f7-4345-d93c-23d07b963f94"
      },
      "execution_count": 53,
      "outputs": [
        {
          "output_type": "stream",
          "name": "stdout",
          "text": [
            "-------------------------------------------------------------------\n",
            "Iter: 1, epoch 1 cost 30.092, validation accuracy: 11.792%\n",
            "-------------------------------------------------------------------\n",
            "Iter: 1, epoch 2 cost 24.735, validation accuracy: 15.188%\n",
            "-------------------------------------------------------------------\n",
            "Iter: 1, epoch 3 cost 20.373, validation accuracy: 19.43%\n",
            "-------------------------------------------------------------------\n",
            "Iter: 1, epoch 4 cost 16.779, validation accuracy: 25.288%\n",
            "-------------------------------------------------------------------\n",
            "Iter: 1, epoch 5 cost 13.821, validation accuracy: 33.686%\n",
            "-------------------------------------------------------------------\n",
            "Iter: 1, epoch 6 cost 11.235, validation accuracy: 46.258%\n",
            "-------------------------------------------------------------------\n",
            "Iter: 1, epoch 7 cost 9.019, validation accuracy: 60.831%\n",
            "-------------------------------------------------------------------\n",
            "Iter: 1, epoch 8 cost 7.35, validation accuracy: 70.252%\n",
            "-------------------------------------------------------------------\n",
            "Iter: 1, epoch 9 cost 6.043, validation accuracy: 76.377%\n",
            "-------------------------------------------------------------------\n",
            "Iter: 1, epoch 10 cost 5.005, validation accuracy: 79.931%\n",
            "-------------------------------------------------------------------\n",
            "Iter: 2, epoch 1 cost 4.175, validation accuracy: 82.4%\n",
            "-------------------------------------------------------------------\n",
            "Iter: 2, epoch 2 cost 3.509, validation accuracy: 84.1%\n",
            "-------------------------------------------------------------------\n",
            "Iter: 2, epoch 3 cost 2.972, validation accuracy: 85.392%\n",
            "-------------------------------------------------------------------\n",
            "Iter: 2, epoch 4 cost 2.539, validation accuracy: 86.138%\n",
            "-------------------------------------------------------------------\n",
            "Iter: 2, epoch 5 cost 2.189, validation accuracy: 86.86%\n",
            "-------------------------------------------------------------------\n",
            "Iter: 2, epoch 6 cost 1.907, validation accuracy: 87.504%\n",
            "-------------------------------------------------------------------\n",
            "Iter: 2, epoch 7 cost 1.678, validation accuracy: 88.082%\n",
            "-------------------------------------------------------------------\n",
            "Iter: 2, epoch 8 cost 1.492, validation accuracy: 88.538%\n",
            "-------------------------------------------------------------------\n",
            "Iter: 2, epoch 9 cost 1.34, validation accuracy: 89.056%\n",
            "-------------------------------------------------------------------\n",
            "Iter: 2, epoch 10 cost 1.218, validation accuracy: 89.354%\n",
            "-------------------------------------------------------------------\n",
            "Iter: 3, epoch 1 cost 1.118, validation accuracy: 89.79%\n",
            "-------------------------------------------------------------------\n",
            "Iter: 3, epoch 2 cost 1.038, validation accuracy: 89.912%\n",
            "-------------------------------------------------------------------\n",
            "Iter: 3, epoch 3 cost 0.972, validation accuracy: 90.288%\n",
            "-------------------------------------------------------------------\n",
            "Iter: 3, epoch 4 cost 0.92, validation accuracy: 90.431%\n",
            "-------------------------------------------------------------------\n",
            "Iter: 3, epoch 5 cost 0.876, validation accuracy: 90.643%\n",
            "-------------------------------------------------------------------\n",
            "Iter: 3, epoch 6 cost 0.842, validation accuracy: 90.858%\n",
            "-------------------------------------------------------------------\n",
            "Iter: 3, epoch 7 cost 0.814, validation accuracy: 90.971%\n",
            "-------------------------------------------------------------------\n",
            "Iter: 3, epoch 8 cost 0.79, validation accuracy: 91.108%\n",
            "-------------------------------------------------------------------\n",
            "Iter: 3, epoch 9 cost 0.771, validation accuracy: 91.265%\n",
            "-------------------------------------------------------------------\n",
            "Iter: 3, epoch 10 cost 0.756, validation accuracy: 91.38%\n",
            "-------------------------------------------------------------------\n",
            "Iter: 4, epoch 1 cost 0.743, validation accuracy: 91.486%\n",
            "-------------------------------------------------------------------\n",
            "Iter: 4, epoch 2 cost 0.732, validation accuracy: 91.589%\n",
            "-------------------------------------------------------------------\n",
            "Iter: 4, epoch 3 cost 0.724, validation accuracy: 91.639%\n",
            "-------------------------------------------------------------------\n",
            "Iter: 4, epoch 4 cost 0.716, validation accuracy: 91.692%\n",
            "-------------------------------------------------------------------\n",
            "Iter: 4, epoch 5 cost 0.71, validation accuracy: 91.836%\n",
            "-------------------------------------------------------------------\n",
            "Iter: 4, epoch 6 cost 0.705, validation accuracy: 91.736%\n",
            "Results summary:\n",
            "Batch size = 64\n",
            "Train accuracy: 92.294%\n",
            "Validation accuracy: 91.958%\n",
            "Test accuracy: 91.96%\n"
          ]
        }
      ]
    },
    {
      "cell_type": "code",
      "source": [
        "parameters['W'][0]"
      ],
      "metadata": {
        "id": "pbwd_9fM9KNs",
        "colab": {
          "base_uri": "https://localhost:8080/"
        },
        "outputId": "85b2f14f-6256-4d47-9228-30bd12a1f87e"
      },
      "execution_count": 59,
      "outputs": [
        {
          "output_type": "execute_result",
          "data": {
            "text/plain": [
              "array([[ 0.24835708, -0.06913215,  0.32384427, ..., -0.66767218,\n",
              "         0.19009893,  0.30529287],\n",
              "       [ 0.27989522,  0.54039036,  0.41696108, ..., -0.14066378,\n",
              "         0.03349536,  0.25796961],\n",
              "       [-0.78127293, -0.26452634,  0.39713234, ..., -0.19600632,\n",
              "         0.52996819,  0.30850297],\n",
              "       ...,\n",
              "       [ 0.02769846,  0.21752419, -0.41420161, ..., -1.11296771,\n",
              "        -0.39377572, -0.23497894],\n",
              "       [-0.11799005, -0.24497201, -1.27501315, ..., -0.81072631,\n",
              "        -0.3751294 ,  0.2941184 ],\n",
              "       [ 0.36096063, -0.32585207, -0.06707666, ..., -0.47945705,\n",
              "        -0.36671258, -0.00550316]])"
            ]
          },
          "metadata": {},
          "execution_count": 59
        }
      ]
    },
    {
      "cell_type": "code",
      "source": [
        "parameters_l2['W'][0]"
      ],
      "metadata": {
        "colab": {
          "base_uri": "https://localhost:8080/"
        },
        "id": "N_p18IhzL7iQ",
        "outputId": "0b9e635b-cb3f-4867-a39a-eeb0c7cab454"
      },
      "execution_count": 58,
      "outputs": [
        {
          "output_type": "execute_result",
          "data": {
            "text/plain": [
              "array([[ 0.00103693, -0.00202308,  0.00057438, ..., -0.01789345,\n",
              "         0.01167333,  0.01206085],\n",
              "       [-0.01791017,  0.00131053,  0.01696928, ...,  0.02101566,\n",
              "         0.00231083, -0.00573269],\n",
              "       [-0.02229284,  0.00412522,  0.00324807, ...,  0.02210704,\n",
              "        -0.01299997,  0.00461194],\n",
              "       ...,\n",
              "       [ 0.00267106, -0.00673723, -0.00825559, ...,  0.00824123,\n",
              "         0.0119845 ,  0.01926042],\n",
              "       [ 0.00041538, -0.00593797, -0.01522488, ...,  0.01309775,\n",
              "        -0.00405748,  0.02241561],\n",
              "       [-0.00826079, -0.00404636,  0.02323034, ...,  0.00429275,\n",
              "         0.00746295, -0.02402202]])"
            ]
          },
          "metadata": {},
          "execution_count": 58
        }
      ]
    },
    {
      "cell_type": "code",
      "source": [],
      "metadata": {
        "id": "S3zdiNh6N3od"
      },
      "execution_count": 31,
      "outputs": []
    }
  ],
  "metadata": {
    "colab": {
      "provenance": []
    },
    "kernelspec": {
      "display_name": "Python 3",
      "name": "python3"
    },
    "language_info": {
      "name": "python"
    }
  },
  "nbformat": 4,
  "nbformat_minor": 0
}